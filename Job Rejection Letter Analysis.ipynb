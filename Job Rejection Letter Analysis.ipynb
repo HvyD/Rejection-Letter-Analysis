{
 "cells": [
  {
   "cell_type": "markdown",
   "metadata": {},
   "source": [
    "# Job Rejection Letters Analysis ![title](images/AppRejected.JPG)"
   ]
  },
  {
   "cell_type": "code",
   "execution_count": 1,
   "metadata": {},
   "outputs": [
    {
     "name": "stdout",
     "output_type": "stream",
     "text": [
      "[nltk_data] Downloading package punkt to /home/hvyd/nltk_data...\n",
      "[nltk_data]   Package punkt is already up-to-date!\n",
      "[nltk_data] Downloading package stopwords to /home/hvyd/nltk_data...\n",
      "[nltk_data]   Package stopwords is already up-to-date!\n"
     ]
    }
   ],
   "source": [
    "import sys\n",
    "import os\n",
    "import time\n",
    "import re\n",
    "import csv\n",
    "import pandas as pd\n",
    "import numpy as np\n",
    "\n",
    "\n",
    "import nltk\n",
    "import nltk.classify.util\n",
    "from nltk.classify import NaiveBayesClassifier\n",
    "from nltk.corpus import stopwords\n",
    "from collections import Counter\n",
    "from nltk.tokenize import word_tokenize\n",
    "nltk.download('punkt')\n",
    "nltk.download('stopwords')\n",
    "\n",
    "from sklearn.ensemble import RandomForestRegressor\n",
    "from sklearn.tree import DecisionTreeRegressor\n",
    "from sklearn.model_selection import train_test_split\n",
    "from sklearn.metrics import mean_squared_error, r2_score\n",
    "from sklearn.ensemble  import AdaBoostRegressor\n",
    "\n",
    "from wordcloud import WordCloud\n",
    "import matplotlib.pyplot as plt\n",
    "import seaborn as sns\n",
    "%matplotlib inline\n",
    "sns.set(style='whitegrid', palette='muted', font_scale=1.3)"
   ]
  },
  {
   "cell_type": "markdown",
   "metadata": {},
   "source": [
    "### Import and Process Data "
   ]
  },
  {
   "cell_type": "code",
   "execution_count": 2,
   "metadata": {},
   "outputs": [
    {
     "data": {
      "text/html": [
       "<div>\n",
       "<style scoped>\n",
       "    .dataframe tbody tr th:only-of-type {\n",
       "        vertical-align: middle;\n",
       "    }\n",
       "\n",
       "    .dataframe tbody tr th {\n",
       "        vertical-align: top;\n",
       "    }\n",
       "\n",
       "    .dataframe thead th {\n",
       "        text-align: right;\n",
       "    }\n",
       "</style>\n",
       "<table border=\"1\" class=\"dataframe\">\n",
       "  <thead>\n",
       "    <tr style=\"text-align: right;\">\n",
       "      <th></th>\n",
       "      <th>Date</th>\n",
       "      <th>Time</th>\n",
       "      <th>Day</th>\n",
       "      <th>Hour</th>\n",
       "      <th>Subject</th>\n",
       "      <th>Text</th>\n",
       "    </tr>\n",
       "  </thead>\n",
       "  <tbody>\n",
       "    <tr>\n",
       "      <th>0</th>\n",
       "      <td>7/12/2018 12:31</td>\n",
       "      <td>12:31:08</td>\n",
       "      <td>Thurs</td>\n",
       "      <td>12.0</td>\n",
       "      <td>Your IBM Application</td>\n",
       "      <td>Ref: 110127BR - 2018 Data Scientist \\n\\nDear S...</td>\n",
       "    </tr>\n",
       "    <tr>\n",
       "      <th>1</th>\n",
       "      <td>6/12/2018 16:30</td>\n",
       "      <td>16:30:28</td>\n",
       "      <td>Tues</td>\n",
       "      <td>16.0</td>\n",
       "      <td>Thank you from Workday!</td>\n",
       "      <td>&lt;!doctype html&gt;&lt;html xmlns:o=3D\"urn:schemas-mi...</td>\n",
       "    </tr>\n",
       "    <tr>\n",
       "      <th>2</th>\n",
       "      <td>5/17/2018 8:43</td>\n",
       "      <td>8:43:38</td>\n",
       "      <td>Thurs</td>\n",
       "      <td>8.0</td>\n",
       "      <td>An Update Regarding Your Visa Job Application</td>\n",
       "      <td>\\nDear Scott,\\nThank you for giving us the opp...</td>\n",
       "    </tr>\n",
       "    <tr>\n",
       "      <th>3</th>\n",
       "      <td>5/1/2018 15:21</td>\n",
       "      <td>15:21:05</td>\n",
       "      <td>Tues</td>\n",
       "      <td>15.0</td>\n",
       "      <td>Thank you for your interest in Zynga for Inter...</td>\n",
       "      <td>&lt;html&gt;&lt;head&gt;\\n&lt;meta http-equiv=3DContent-Type ...</td>\n",
       "    </tr>\n",
       "    <tr>\n",
       "      <th>4</th>\n",
       "      <td>4/26/2018 14:49</td>\n",
       "      <td>14:49:02</td>\n",
       "      <td>Thurs</td>\n",
       "      <td>14.0</td>\n",
       "      <td>Your Application with Cambia Health Solutions</td>\n",
       "      <td>Dear Scott,\\n=C2=A0\\nThank you for the interes...</td>\n",
       "    </tr>\n",
       "  </tbody>\n",
       "</table>\n",
       "</div>"
      ],
      "text/plain": [
       "              Date      Time    Day  Hour  \\\n",
       "0  7/12/2018 12:31  12:31:08  Thurs  12.0   \n",
       "1  6/12/2018 16:30  16:30:28   Tues  16.0   \n",
       "2   5/17/2018 8:43   8:43:38  Thurs   8.0   \n",
       "3   5/1/2018 15:21  15:21:05   Tues  15.0   \n",
       "4  4/26/2018 14:49  14:49:02  Thurs  14.0   \n",
       "\n",
       "                                             Subject  \\\n",
       "0                               Your IBM Application   \n",
       "1                            Thank you from Workday!   \n",
       "2      An Update Regarding Your Visa Job Application   \n",
       "3  Thank you for your interest in Zynga for Inter...   \n",
       "4      Your Application with Cambia Health Solutions   \n",
       "\n",
       "                                                Text  \n",
       "0  Ref: 110127BR - 2018 Data Scientist \\n\\nDear S...  \n",
       "1  <!doctype html><html xmlns:o=3D\"urn:schemas-mi...  \n",
       "2  \\nDear Scott,\\nThank you for giving us the opp...  \n",
       "3  <html><head>\\n<meta http-equiv=3DContent-Type ...  \n",
       "4  Dear Scott,\\n=C2=A0\\nThank you for the interes...  "
      ]
     },
     "execution_count": 2,
     "metadata": {},
     "output_type": "execute_result"
    }
   ],
   "source": [
    "df = pd.read_csv('data/rejections.csv')\n",
    "df = df.dropna()\n",
    "df.head()"
   ]
  },
  {
   "cell_type": "code",
   "execution_count": 3,
   "metadata": {},
   "outputs": [
    {
     "data": {
      "image/png": "[encoded data removed]",
      "text/plain": [
       "<Figure size 432x288 with 1 Axes>"
      ]
     },
     "metadata": {},
     "output_type": "display_data"
    }
   ],
   "source": [
    "wordcloud = WordCloud(max_font_size=42).generate(str(df))\n",
    "plt.figure()\n",
    "plt.imshow(wordcloud, interpolation=\"bilinear\")\n",
    "plt.axis(\"off\")\n",
    "plt.show()"
   ]
  },
  {
   "cell_type": "code",
   "execution_count": 4,
   "metadata": {},
   "outputs": [
    {
     "name": "stdout",
     "output_type": "stream",
     "text": [
      "<class 'pandas.core.frame.DataFrame'>\n",
      "Int64Index: 61 entries, 0 to 85\n",
      "Data columns (total 6 columns):\n",
      "Date       61 non-null object\n",
      "Time       61 non-null object\n",
      "Day        61 non-null object\n",
      "Hour       61 non-null float64\n",
      "Subject    61 non-null object\n",
      "Text       61 non-null object\n",
      "dtypes: float64(1), object(5)\n",
      "memory usage: 3.3+ KB\n"
     ]
    }
   ],
   "source": [
    "df.info()"
   ]
  },
  {
   "cell_type": "code",
   "execution_count": 5,
   "metadata": {},
   "outputs": [
    {
     "data": {
      "text/plain": [
       "(61, 6)"
      ]
     },
     "execution_count": 5,
     "metadata": {},
     "output_type": "execute_result"
    }
   ],
   "source": [
    "df.shape"
   ]
  },
  {
   "cell_type": "code",
   "execution_count": 6,
   "metadata": {},
   "outputs": [
    {
     "data": {
      "text/html": [
       "<div>\n",
       "<style scoped>\n",
       "    .dataframe tbody tr th:only-of-type {\n",
       "        vertical-align: middle;\n",
       "    }\n",
       "\n",
       "    .dataframe tbody tr th {\n",
       "        vertical-align: top;\n",
       "    }\n",
       "\n",
       "    .dataframe thead th {\n",
       "        text-align: right;\n",
       "    }\n",
       "</style>\n",
       "<table border=\"1\" class=\"dataframe\">\n",
       "  <thead>\n",
       "    <tr style=\"text-align: right;\">\n",
       "      <th></th>\n",
       "      <th>Hour</th>\n",
       "    </tr>\n",
       "  </thead>\n",
       "  <tbody>\n",
       "    <tr>\n",
       "      <th>count</th>\n",
       "      <td>61.000000</td>\n",
       "    </tr>\n",
       "    <tr>\n",
       "      <th>mean</th>\n",
       "      <td>11.836066</td>\n",
       "    </tr>\n",
       "    <tr>\n",
       "      <th>std</th>\n",
       "      <td>3.236152</td>\n",
       "    </tr>\n",
       "    <tr>\n",
       "      <th>min</th>\n",
       "      <td>5.000000</td>\n",
       "    </tr>\n",
       "    <tr>\n",
       "      <th>25%</th>\n",
       "      <td>9.000000</td>\n",
       "    </tr>\n",
       "    <tr>\n",
       "      <th>50%</th>\n",
       "      <td>12.000000</td>\n",
       "    </tr>\n",
       "    <tr>\n",
       "      <th>75%</th>\n",
       "      <td>14.000000</td>\n",
       "    </tr>\n",
       "    <tr>\n",
       "      <th>max</th>\n",
       "      <td>22.000000</td>\n",
       "    </tr>\n",
       "  </tbody>\n",
       "</table>\n",
       "</div>"
      ],
      "text/plain": [
       "            Hour\n",
       "count  61.000000\n",
       "mean   11.836066\n",
       "std     3.236152\n",
       "min     5.000000\n",
       "25%     9.000000\n",
       "50%    12.000000\n",
       "75%    14.000000\n",
       "max    22.000000"
      ]
     },
     "execution_count": 6,
     "metadata": {},
     "output_type": "execute_result"
    }
   ],
   "source": [
    "df.describe()"
   ]
  },
  {
   "cell_type": "markdown",
   "metadata": {},
   "source": [
    "## Visualize Days of rejection"
   ]
  },
  {
   "cell_type": "code",
   "execution_count": 7,
   "metadata": {},
   "outputs": [
    {
     "data": {
      "image/png": "[encoded data removed]",
      "text/plain": [
       "<Figure size 720x576 with 1 Axes>"
      ]
     },
     "metadata": {},
     "output_type": "display_data"
    }
   ],
   "source": [
    "plt.figure(figsize=(10,8))\n",
    "sns.countplot(df['Day'], order=['Mon', 'Tues', 'Weds', 'Thurs', 'Fri', 'Sat', 'Sun']);\n",
    "plt.xlabel('Day of the Week')\n",
    "plt.ylabel('Count');"
   ]
  },
  {
   "cell_type": "markdown",
   "metadata": {},
   "source": [
    "### Lets see which company likes to send weekend and late night rejections"
   ]
  },
  {
   "cell_type": "code",
   "execution_count": 8,
   "metadata": {},
   "outputs": [
    {
     "data": {
      "text/html": [
       "<div>\n",
       "<style scoped>\n",
       "    .dataframe tbody tr th:only-of-type {\n",
       "        vertical-align: middle;\n",
       "    }\n",
       "\n",
       "    .dataframe tbody tr th {\n",
       "        vertical-align: top;\n",
       "    }\n",
       "\n",
       "    .dataframe thead th {\n",
       "        text-align: right;\n",
       "    }\n",
       "</style>\n",
       "<table border=\"1\" class=\"dataframe\">\n",
       "  <thead>\n",
       "    <tr style=\"text-align: right;\">\n",
       "      <th></th>\n",
       "      <th>Date</th>\n",
       "      <th>Time</th>\n",
       "      <th>Day</th>\n",
       "      <th>Hour</th>\n",
       "      <th>Subject</th>\n",
       "      <th>Text</th>\n",
       "    </tr>\n",
       "  </thead>\n",
       "  <tbody>\n",
       "    <tr>\n",
       "      <th>46</th>\n",
       "      <td>12/16/2017 15:04</td>\n",
       "      <td>15:04:42</td>\n",
       "      <td>Sat</td>\n",
       "      <td>15.0</td>\n",
       "      <td>Important information about your application t...</td>\n",
       "      <td>Hi Scott,\\nThank you for applying to Software ...</td>\n",
       "    </tr>\n",
       "    <tr>\n",
       "      <th>63</th>\n",
       "      <td>11/4/2017 7:27</td>\n",
       "      <td>7:27:04</td>\n",
       "      <td>Sat</td>\n",
       "      <td>7.0</td>\n",
       "      <td>Thank you for your interest in TripAdvisor</td>\n",
       "      <td>Hi Scott,\\n\\nThank you for your interest in th...</td>\n",
       "    </tr>\n",
       "  </tbody>\n",
       "</table>\n",
       "</div>"
      ],
      "text/plain": [
       "                Date      Time  Day  Hour  \\\n",
       "46  12/16/2017 15:04  15:04:42  Sat  15.0   \n",
       "63    11/4/2017 7:27   7:27:04  Sat   7.0   \n",
       "\n",
       "                                              Subject  \\\n",
       "46  Important information about your application t...   \n",
       "63         Thank you for your interest in TripAdvisor   \n",
       "\n",
       "                                                 Text  \n",
       "46  Hi Scott,\\nThank you for applying to Software ...  \n",
       "63  Hi Scott,\\n\\nThank you for your interest in th...  "
      ]
     },
     "execution_count": 8,
     "metadata": {},
     "output_type": "execute_result"
    }
   ],
   "source": [
    "sat = df.loc[df['Day'] == 'Sat']\n",
    "sat"
   ]
  },
  {
   "cell_type": "code",
   "execution_count": 9,
   "metadata": {},
   "outputs": [
    {
     "name": "stdout",
     "output_type": "stream",
     "text": [
      "Important information about your application to LendUp\n",
      "Hi Scott,\n",
      "Thank you for applying to Software Engineering Intern. After reviewing with the team, we have decided not to move forward with your candidacy. Due to the number of applications we receive we are not able to provide specific feedback.\n",
      "\n",
      "We will keep your details on file and let you know if any suitable openings arise.\n",
      "\n",
      "Thanks again for your interest in LendUp and we wish you the best of luck in your search!\n",
      "\n",
      "Regards,\n",
      "LendUp Recruiting Team\n"
     ]
    }
   ],
   "source": [
    "print(sat.iloc[0]['Subject'])\n",
    "print(sat.iloc[0]['Text'])"
   ]
  },
  {
   "cell_type": "code",
   "execution_count": 10,
   "metadata": {},
   "outputs": [
    {
     "name": "stdout",
     "output_type": "stream",
     "text": [
      "Thank you for your interest in TripAdvisor\n",
      "Hi Scott,\n",
      "\n",
      "Thank you for your interest in the Machine Learning Engineer position at TripAdvisor. We have received your application and it is currently being reviewed by the hiring team. We will be in touch if there is interest in moving forward.\n",
      "\n",
      "In the meantime please be sure to visit our careers page ( http://www.tripa=\n",
      "dvisor.com/careers ) for more information about:\n",
      "\n",
      "- our benefits and unique perks ( http://www.tripadvisor.com/careers/benefi=\n",
      "ts )\n",
      "\n",
      "- who we are and what we value ( http://www.tripadvisor.com/careers/culture=\n",
      " )\n",
      "\n",
      "We encourage you to learn more about our people, our offices, our =E2=80=9C=\n",
      "speed wins=E2=80=9D culture and the work we do by visiting our Twitter ( ht=\n",
      "tps://twitter.com/gotripadvisor ),Instagram ( https://www.instagram.com/got=\n",
      "ripadvisor/ ) and LinkedIn ( https://www.linkedin.com/company/tripadvisor/c=\n",
      "areers ) pages. These pages provide an inside glimpse of life at TripAdviso=\n",
      "r offices around the world.\n",
      "\n",
      "Thanks again for your interest in joining the TripAdvisor team!\n",
      "\n",
      "Best regards,\n",
      "\n",
      "Your TripAdvisor Recruiters\n"
     ]
    }
   ],
   "source": [
    "print(sat.iloc[1]['Subject'])\n",
    "print(sat.iloc[1]['Text'])"
   ]
  },
  {
   "cell_type": "code",
   "execution_count": 11,
   "metadata": {},
   "outputs": [
    {
     "data": {
      "image/png": "[encoded data removed]",
      "text/plain": [
       "<Figure size 720x576 with 1 Axes>"
      ]
     },
     "metadata": {},
     "output_type": "display_data"
    }
   ],
   "source": [
    "#Visualization\n",
    "plt.figure(figsize=(10,8))\n",
    "sns.countplot(df['Hour'], order=np.arange(0,24));\n",
    "plt.xlabel('Hour of the Day (EST)')\n",
    "plt.ylabel('Count');"
   ]
  },
  {
   "cell_type": "code",
   "execution_count": 12,
   "metadata": {},
   "outputs": [
    {
     "data": {
      "text/html": [
       "<div>\n",
       "<style scoped>\n",
       "    .dataframe tbody tr th:only-of-type {\n",
       "        vertical-align: middle;\n",
       "    }\n",
       "\n",
       "    .dataframe tbody tr th {\n",
       "        vertical-align: top;\n",
       "    }\n",
       "\n",
       "    .dataframe thead th {\n",
       "        text-align: right;\n",
       "    }\n",
       "</style>\n",
       "<table border=\"1\" class=\"dataframe\">\n",
       "  <thead>\n",
       "    <tr style=\"text-align: right;\">\n",
       "      <th></th>\n",
       "      <th>Date</th>\n",
       "      <th>Time</th>\n",
       "      <th>Day</th>\n",
       "      <th>Hour</th>\n",
       "      <th>Subject</th>\n",
       "      <th>Text</th>\n",
       "    </tr>\n",
       "  </thead>\n",
       "  <tbody>\n",
       "    <tr>\n",
       "      <th>79</th>\n",
       "      <td>9/21/2017 22:08</td>\n",
       "      <td>22:08:37</td>\n",
       "      <td>Thurs</td>\n",
       "      <td>22.0</td>\n",
       "      <td>P&amp;G</td>\n",
       "      <td>&lt;!DOCTYPE HTML PUBLIC \"-//W3C//DTD HTML 4.01//...</td>\n",
       "    </tr>\n",
       "  </tbody>\n",
       "</table>\n",
       "</div>"
      ],
      "text/plain": [
       "               Date      Time    Day  Hour Subject  \\\n",
       "79  9/21/2017 22:08  22:08:37  Thurs  22.0     P&G   \n",
       "\n",
       "                                                 Text  \n",
       "79  <!DOCTYPE HTML PUBLIC \"-//W3C//DTD HTML 4.01//...  "
      ]
     },
     "execution_count": 12,
     "metadata": {},
     "output_type": "execute_result"
    }
   ],
   "source": [
    "late = df.loc[df['Hour'] == 22]\n",
    "late"
   ]
  },
  {
   "cell_type": "code",
   "execution_count": 13,
   "metadata": {},
   "outputs": [
    {
     "name": "stdout",
     "output_type": "stream",
     "text": [
      "P&G\n",
      "<!DOCTYPE HTML PUBLIC \"-//W3C//DTD HTML 4.01//EN\" \"http://www.w3.org/TR/htm=\n",
      "l4/strict.dtd\">\n",
      "<html>\n",
      "<head>\n",
      "<meta http-equiv=3D\"Content-Type\" content=3D\"text/html; charset=3Dutf-8\"/><=\n",
      "title></title>\n",
      "</head>\n",
      "<body style=3D'font-family: Arial, Times New Roman, Verdana, Sans-Serif; pa=\n",
      "dding: 5px 5px 5px 5px; margin: 0px; border-style: none; background-color: =\n",
      "#ffffff'>\n",
      "<div><p style=3D\"margin-top:0px;margin-bottom:0px;text-align:center\"><img s=\n",
      "rc=3D \"http://pg.taleo.net/custom/images/company_logo_01.gif\"> </img></p>\n",
      "<p style=3D\"margin-top:0px;margin-bottom:0px\">&nbsp;</p></div><div><p style=\n",
      "=3D\"margin-top: 0px; margin-bottom: 0px;\">Dear&nbsp; Scott,</p>\n",
      "<p style=3D\"margin-top: 0px; margin-bottom: 0px;\">&nbsp;</p>\n",
      "<p style=3D\"margin-top: 0px; margin-bottom: 0px;\">Thank you for applying to=\n",
      " Information Technology -  Data Scientist =E2=80=93 Internship =E2=80=93 Sw=\n",
      "itzerland - IT 00001031.&nbsp; We appreciate your interest in Procter &amp;=\n",
      " Gamble.</p>\n",
      "<p style=3D\"margin-top: 0px; margin-bottom: 0px;\">&nbsp;</p>\n",
      "<p style=3D\"margin-top: 0px; margin-bottom: 0px;\">We have reviewed your qua=\n",
      "lifications and, unfortunately, are not able to pursue your application fur=\n",
      "ther.&nbsp; This decision represents our sincere efforts to consider your b=\n",
      "ackground and strengths for this specific opportunity.</p>\n",
      "<p style=3D\"margin-top: 0px; margin-bottom: 0px;\">&nbsp;</p>\n",
      "<p style=3D\"margin-top: 0px; margin-bottom: 0px;\"><span style=3D\"color:blac=\n",
      "k\">Please rest assured that this decision is only valid for this specific p=\n",
      "osition and you can still apply to other P&amp;G openings! We invite you to=\n",
      " visit <a href=3D\"http://pgcareers.com\" rel=3D\"external\">pgcareers.com</a> =\n",
      "regularly and apply online to other jobs that may interest you.<br />\n",
      "&nbsp;<br />\n",
      "Thanks for the time you have invested in applying to Procter &amp; Gamble.&=\n",
      "nbsp; We wish you every success in finding an excellent career opportunity.=\n",
      "</span></p>\n",
      "<p style=3D\"margin-top: 0px; margin-bottom: 0px;\">&nbsp;</p>\n",
      "<p style=3D\"margin-top: 0px; margin-bottom: 0px;\">Sincerely,</p>\n",
      "<p style=3D\"margin-top: 0px; margin-bottom: 0px;\">&nbsp;</p></div><div>P&am=\n",
      "p;G Recruiting<br />\n",
      "<p style=3D\"margin-top:0px;margin-bottom:0px\" class=3D\"MsoNormal\"><span sty=\n",
      "le=3D\"color:#1f497d\"><span style=3D\"font-family:&quot;calibri&quot;,&quot;s=\n",
      "ans-serif&quot;\"><span style=3D\"font-size:11.0pt\">&nbsp;</span></span></spa=\n",
      "n>&nbsp;&nbsp;</p>\n",
      "&nbsp;</div></body>\n",
      "</html>\n",
      "\n"
     ]
    }
   ],
   "source": [
    "print(late.iloc[0]['Subject'])\n",
    "print(late.iloc[0]['Text'])"
   ]
  },
  {
   "cell_type": "code",
   "execution_count": 14,
   "metadata": {},
   "outputs": [],
   "source": [
    "subject_str = df['Subject'].to_string()\n",
    "words = nltk.word_tokenize(subject_str)\n",
    "clean = [word for word in words if word not in stopwords.words('english')]\n",
    "\n",
    "punctuation = re.compile(r'[-.?!,\":;()|0-9]')\n",
    "clean = [punctuation.sub(\"\", word) for word in clean]\n",
    "clean = [word.lower() for word in clean if len(word) > 0]\n",
    "\n",
    "words = [item[0] for item in Counter(clean).most_common(10)]\n",
    "counts = [item[1] for item in Counter(clean).most_common(10)]"
   ]
  },
  {
   "cell_type": "code",
   "execution_count": 15,
   "metadata": {},
   "outputs": [
    {
     "data": {
      "text/plain": [
       "(\"['application', 'your', 'thank', 'interest', 'data', 'intern', 'software', 'update', 'thanks', 'scott']\",\n",
       " [34, 16, 10, 8, 7, 7, 7, 6, 5, 5])"
      ]
     },
     "execution_count": 15,
     "metadata": {},
     "output_type": "execute_result"
    }
   ],
   "source": [
    "# List of common words and counts\n",
    "your_list = str(words)\n",
    "your_list, counts"
   ]
  },
  {
   "cell_type": "code",
   "execution_count": 16,
   "metadata": {},
   "outputs": [
    {
     "data": {
      "image/png": "[encoded data removed]",
      "text/plain": [
       "<Figure size 720x360 with 1 Axes>"
      ]
     },
     "metadata": {},
     "output_type": "display_data"
    }
   ],
   "source": [
    "# Visualization\n",
    "plt.figure(figsize=(10,5))\n",
    "sns.barplot(counts, words);\n",
    "plt.ylabel('');\n",
    "plt.xlabel('Number of Occurrences');"
   ]
  },
  {
   "cell_type": "code",
   "execution_count": 17,
   "metadata": {},
   "outputs": [
    {
     "data": {
      "image/png": "[encoded data removed]",
      "text/plain": [
       "<Figure size 432x288 with 1 Axes>"
      ]
     },
     "metadata": {},
     "output_type": "display_data"
    }
   ],
   "source": [
    "#WordCloud of common words for fun\n",
    "wordcloud = WordCloud(max_font_size=42).generate(your_list)\n",
    "plt.figure()\n",
    "plt.imshow(wordcloud, interpolation=\"bilinear\")\n",
    "plt.axis(\"off\")\n",
    "plt.show()\n"
   ]
  },
  {
   "cell_type": "code",
   "execution_count": 18,
   "metadata": {},
   "outputs": [],
   "source": [
    "y_counts = [item[1] for item in Counter(clean).most_common(61)]"
   ]
  },
  {
   "cell_type": "markdown",
   "metadata": {},
   "source": [
    "# Random Forest"
   ]
  },
  {
   "cell_type": "code",
   "execution_count": 19,
   "metadata": {},
   "outputs": [],
   "source": [
    "X = df[['Hour']].values\n",
    "y = y_counts\n"
   ]
  },
  {
   "cell_type": "code",
   "execution_count": 20,
   "metadata": {},
   "outputs": [],
   "source": [
    "X_train, X_test, y_train, y_test = train_test_split(X,y, test_size=0.3, random_state=42)"
   ]
  },
  {
   "cell_type": "code",
   "execution_count": 21,
   "metadata": {},
   "outputs": [],
   "source": [
    "forest = RandomForestRegressor(n_estimators=500, criterion='mse', random_state=42, n_jobs=-1)"
   ]
  },
  {
   "cell_type": "code",
   "execution_count": 22,
   "metadata": {},
   "outputs": [
    {
     "data": {
      "text/plain": [
       "RandomForestRegressor(bootstrap=True, criterion='mse', max_depth=None,\n",
       "           max_features='auto', max_leaf_nodes=None,\n",
       "           min_impurity_decrease=0.0, min_impurity_split=None,\n",
       "           min_samples_leaf=1, min_samples_split=2,\n",
       "           min_weight_fraction_leaf=0.0, n_estimators=500, n_jobs=-1,\n",
       "           oob_score=False, random_state=42, verbose=0, warm_start=False)"
      ]
     },
     "execution_count": 22,
     "metadata": {},
     "output_type": "execute_result"
    }
   ],
   "source": [
    "forest.fit(X_train, y_train)"
   ]
  },
  {
   "cell_type": "code",
   "execution_count": 23,
   "metadata": {},
   "outputs": [],
   "source": [
    "y_train_pred = forest.predict(X_train)"
   ]
  },
  {
   "cell_type": "code",
   "execution_count": 24,
   "metadata": {},
   "outputs": [],
   "source": [
    "y_test_pred = forest.predict(X_test)"
   ]
  },
  {
   "cell_type": "code",
   "execution_count": 25,
   "metadata": {},
   "outputs": [
    {
     "name": "stdout",
     "output_type": "stream",
     "text": [
      "MSE train: 5.5334, test: 61.6290\n"
     ]
    }
   ],
   "source": [
    "print(\"MSE train: {0:.4f}, test: {1:.4f}\".\\\n",
    "      format(mean_squared_error(y_train, y_train_pred), \n",
    "             mean_squared_error(y_test, y_test_pred)))"
   ]
  },
  {
   "cell_type": "code",
   "execution_count": 26,
   "metadata": {},
   "outputs": [
    {
     "name": "stdout",
     "output_type": "stream",
     "text": [
      "R2 train: 0.2836, test: -0.1608\n"
     ]
    }
   ],
   "source": [
    "print(\"R2 train: {0:.4f}, test: {1:.4f}\".\\\n",
    "     format(r2_score(y_train, y_train_pred),\n",
    "           r2_score(y_test, y_test_pred)))"
   ]
  },
  {
   "cell_type": "markdown",
   "metadata": {},
   "source": [
    "# AdaBoost"
   ]
  },
  {
   "cell_type": "code",
   "execution_count": 27,
   "metadata": {},
   "outputs": [],
   "source": [
    "ada = AdaBoostRegressor(DecisionTreeRegressor(max_depth=4),\n",
    "                        n_estimators=500, random_state=42)"
   ]
  },
  {
   "cell_type": "code",
   "execution_count": 28,
   "metadata": {},
   "outputs": [
    {
     "data": {
      "text/plain": [
       "AdaBoostRegressor(base_estimator=DecisionTreeRegressor(criterion='mse', max_depth=4, max_features=None,\n",
       "           max_leaf_nodes=None, min_impurity_decrease=0.0,\n",
       "           min_impurity_split=None, min_samples_leaf=1,\n",
       "           min_samples_split=2, min_weight_fraction_leaf=0.0,\n",
       "           presort=False, random_state=None, splitter='best'),\n",
       "         learning_rate=1.0, loss='linear', n_estimators=500,\n",
       "         random_state=42)"
      ]
     },
     "execution_count": 28,
     "metadata": {},
     "output_type": "execute_result"
    }
   ],
   "source": [
    "ada.fit(X_train, y_train)"
   ]
  },
  {
   "cell_type": "code",
   "execution_count": 29,
   "metadata": {},
   "outputs": [],
   "source": [
    "y_train_pred = ada.predict(X_train)"
   ]
  },
  {
   "cell_type": "code",
   "execution_count": 30,
   "metadata": {},
   "outputs": [],
   "source": [
    "y_test_pred = ada.predict(X_test)"
   ]
  },
  {
   "cell_type": "code",
   "execution_count": 31,
   "metadata": {},
   "outputs": [
    {
     "name": "stdout",
     "output_type": "stream",
     "text": [
      "MSE train: 5.9849, test: 61.3068\n"
     ]
    }
   ],
   "source": [
    "print(\"MSE train: {0:.4f}, test: {1:.4f}\".\\\n",
    "      format(mean_squared_error(y_train, y_train_pred), \n",
    "             mean_squared_error(y_test, y_test_pred)))"
   ]
  },
  {
   "cell_type": "code",
   "execution_count": 32,
   "metadata": {},
   "outputs": [
    {
     "name": "stdout",
     "output_type": "stream",
     "text": [
      "R2 train: 0.2251, test: -0.1547\n"
     ]
    }
   ],
   "source": [
    "print(\"R2 train: {0:.4f}, test: {1:.4f}\".\\\n",
    "     format(r2_score(y_train, y_train_pred),\n",
    "           r2_score(y_test, y_test_pred)))"
   ]
  }
 ],
 "metadata": {
  "kernelspec": {
   "display_name": "Python 3",
   "language": "python",
   "name": "python3"
  },
  "language_info": {
   "codemirror_mode": {
    "name": "ipython",
    "version": 3
   },
   "file_extension": ".py",
   "mimetype": "text/x-python",
   "name": "python",
   "nbconvert_exporter": "python",
   "pygments_lexer": "ipython3",
   "version": "3.6.5"
  }
 },
 "nbformat": 4,
 "nbformat_minor": 2
}
